{
 "cells": [
  {
   "cell_type": "code",
   "execution_count": 1,
   "id": "83a83b97",
   "metadata": {},
   "outputs": [],
   "source": [
    "# Import required modules\n",
    "from selenium import webdriver\n",
    "from selenium.webdriver.support.ui import WebDriverWait\n",
    "from selenium.webdriver.support import expected_conditions as EC\n",
    "from selenium.webdriver.common.keys import Keys\n",
    "from selenium.webdriver.common.by import By\n",
    "from selenium.webdriver.chrome.service import Service\n",
    "\n",
    "from webdriver_manager.chrome import ChromeDriverManager\n",
    "\n",
    "import pandas as pd\n",
    "import time\n",
    "import gspread\n",
    "import numpy as np\n",
    "from oauth2client.service_account import ServiceAccountCredentials\n",
    "\n",
    "from datetime import date, datetime, timedelta\n",
    "\n",
    "from sqlalchemy import create_engine\n",
    "\n",
    "options = webdriver.ChromeOptions()\n",
    "options.add_argument(\"--disable-blink-features=AutomationControlled\")\n",
    "options.add_argument(\"--disable-site-isolation-trials\")\n",
    "options.add_argument(\"start-maximized\")\n",
    "\n",
    "#options.add_argument(\"user-agent=Mozilla/5.0 (Windows NT 10.0; Win64; x64)\"+\"AppleWebKit/537.36 (KHTML, like Gecko)\"+\"Chrome/87.0.4280.141 Safari/537.36\")\n",
    "options.add_argument(f'user-agent=Chrome/115.0.0.0')\n",
    "#options.add_argument('--headless')\n"
   ]
  },
  {
   "cell_type": "code",
   "execution_count": 2,
   "id": "e8900ef5",
   "metadata": {},
   "outputs": [],
   "source": [
    "driver = webdriver.Chrome( options = options)"
   ]
  },
  {
   "cell_type": "code",
   "execution_count": 15,
   "id": "dd8ee047",
   "metadata": {},
   "outputs": [],
   "source": [
    "driver.get(\"https://www.findcourses.co.uk/search/providers?q=nvq\")"
   ]
  },
  {
   "cell_type": "code",
   "execution_count": 16,
   "id": "6334a2f1",
   "metadata": {},
   "outputs": [],
   "source": [
    "temp=[]"
   ]
  },
  {
   "cell_type": "code",
   "execution_count": 17,
   "id": "e8330a69",
   "metadata": {},
   "outputs": [
    {
     "name": "stdout",
     "output_type": "stream",
     "text": [
      "2\n",
      "3\n",
      "4\n",
      "5\n",
      "6\n",
      "7\n",
      "8\n",
      "9\n",
      "10\n",
      "11\n"
     ]
    },
    {
     "ename": "NoSuchWindowException",
     "evalue": "Message: no such window: target window already closed\nfrom unknown error: web view not found\n  (Session info: chrome=127.0.6533.72)\nStacktrace:\n\tGetHandleVerifier [0x00007FF66D849632+30946]\n\t(No symbol) [0x00007FF66D7FE3C9]\n\t(No symbol) [0x00007FF66D6F6FDA]\n\t(No symbol) [0x00007FF66D6CCB85]\n\t(No symbol) [0x00007FF66D7737A7]\n\t(No symbol) [0x00007FF66D78A771]\n\t(No symbol) [0x00007FF66D76C813]\n\t(No symbol) [0x00007FF66D73A6E5]\n\t(No symbol) [0x00007FF66D73B021]\n\tGetHandleVerifier [0x00007FF66D97F83D+1301229]\n\tGetHandleVerifier [0x00007FF66D98BDB7+1351783]\n\tGetHandleVerifier [0x00007FF66D982A03+1313971]\n\tGetHandleVerifier [0x00007FF66D87DD06+245686]\n\t(No symbol) [0x00007FF66D80758F]\n\t(No symbol) [0x00007FF66D803804]\n\t(No symbol) [0x00007FF66D803992]\n\t(No symbol) [0x00007FF66D7FA3EF]\n\tBaseThreadInitThunk [0x00007FFEF8EC53E0+16]\n\tRtlUserThreadStart [0x00007FFEFA16485B+43]\n",
     "output_type": "error",
     "traceback": [
      "\u001b[1;31m---------------------------------------------------------------------------\u001b[0m",
      "\u001b[1;31mNoSuchWindowException\u001b[0m                     Traceback (most recent call last)",
      "Cell \u001b[1;32mIn[17], line 4\u001b[0m\n\u001b[0;32m      2\u001b[0m count \u001b[38;5;241m=\u001b[39m \u001b[38;5;241m2\u001b[39m\n\u001b[0;32m      3\u001b[0m \u001b[38;5;28;01mwhile\u001b[39;00m \u001b[38;5;28;01mTrue\u001b[39;00m:\n\u001b[1;32m----> 4\u001b[0m     items \u001b[38;5;241m=\u001b[39m driver\u001b[38;5;241m.\u001b[39mfind_elements(By\u001b[38;5;241m.\u001b[39mCSS_SELECTOR,\u001b[38;5;124m\"\u001b[39m\u001b[38;5;124m#emg-serp > div.emg-serp__serp-container > div > a.serp-list_link\u001b[39m\u001b[38;5;124m\"\u001b[39m)\n\u001b[0;32m      5\u001b[0m     \u001b[38;5;28mprint\u001b[39m(count)\n\u001b[0;32m      6\u001b[0m     \u001b[38;5;28;01mfor\u001b[39;00m item \u001b[38;5;129;01min\u001b[39;00m items:\n",
      "File \u001b[1;32m~\\anaconda3\\Lib\\site-packages\\selenium\\webdriver\\remote\\webdriver.py:768\u001b[0m, in \u001b[0;36mWebDriver.find_elements\u001b[1;34m(self, by, value)\u001b[0m\n\u001b[0;32m    764\u001b[0m     value \u001b[38;5;241m=\u001b[39m \u001b[38;5;124mf\u001b[39m\u001b[38;5;124m'\u001b[39m\u001b[38;5;124m[name=\u001b[39m\u001b[38;5;124m\"\u001b[39m\u001b[38;5;132;01m{\u001b[39;00mvalue\u001b[38;5;132;01m}\u001b[39;00m\u001b[38;5;124m\"\u001b[39m\u001b[38;5;124m]\u001b[39m\u001b[38;5;124m'\u001b[39m\n\u001b[0;32m    766\u001b[0m \u001b[38;5;66;03m# Return empty list if driver returns null\u001b[39;00m\n\u001b[0;32m    767\u001b[0m \u001b[38;5;66;03m# See https://github.com/SeleniumHQ/selenium/issues/4555\u001b[39;00m\n\u001b[1;32m--> 768\u001b[0m \u001b[38;5;28;01mreturn\u001b[39;00m \u001b[38;5;28mself\u001b[39m\u001b[38;5;241m.\u001b[39mexecute(Command\u001b[38;5;241m.\u001b[39mFIND_ELEMENTS, {\u001b[38;5;124m\"\u001b[39m\u001b[38;5;124musing\u001b[39m\u001b[38;5;124m\"\u001b[39m: by, \u001b[38;5;124m\"\u001b[39m\u001b[38;5;124mvalue\u001b[39m\u001b[38;5;124m\"\u001b[39m: value})[\u001b[38;5;124m\"\u001b[39m\u001b[38;5;124mvalue\u001b[39m\u001b[38;5;124m\"\u001b[39m] \u001b[38;5;129;01mor\u001b[39;00m []\n",
      "File \u001b[1;32m~\\anaconda3\\Lib\\site-packages\\selenium\\webdriver\\remote\\webdriver.py:344\u001b[0m, in \u001b[0;36mWebDriver.execute\u001b[1;34m(self, driver_command, params)\u001b[0m\n\u001b[0;32m    342\u001b[0m response \u001b[38;5;241m=\u001b[39m \u001b[38;5;28mself\u001b[39m\u001b[38;5;241m.\u001b[39mcommand_executor\u001b[38;5;241m.\u001b[39mexecute(driver_command, params)\n\u001b[0;32m    343\u001b[0m \u001b[38;5;28;01mif\u001b[39;00m response:\n\u001b[1;32m--> 344\u001b[0m     \u001b[38;5;28mself\u001b[39m\u001b[38;5;241m.\u001b[39merror_handler\u001b[38;5;241m.\u001b[39mcheck_response(response)\n\u001b[0;32m    345\u001b[0m     response[\u001b[38;5;124m\"\u001b[39m\u001b[38;5;124mvalue\u001b[39m\u001b[38;5;124m\"\u001b[39m] \u001b[38;5;241m=\u001b[39m \u001b[38;5;28mself\u001b[39m\u001b[38;5;241m.\u001b[39m_unwrap_value(response\u001b[38;5;241m.\u001b[39mget(\u001b[38;5;124m\"\u001b[39m\u001b[38;5;124mvalue\u001b[39m\u001b[38;5;124m\"\u001b[39m, \u001b[38;5;28;01mNone\u001b[39;00m))\n\u001b[0;32m    346\u001b[0m     \u001b[38;5;28;01mreturn\u001b[39;00m response\n",
      "File \u001b[1;32m~\\anaconda3\\Lib\\site-packages\\selenium\\webdriver\\remote\\errorhandler.py:229\u001b[0m, in \u001b[0;36mErrorHandler.check_response\u001b[1;34m(self, response)\u001b[0m\n\u001b[0;32m    227\u001b[0m         alert_text \u001b[38;5;241m=\u001b[39m value[\u001b[38;5;124m\"\u001b[39m\u001b[38;5;124malert\u001b[39m\u001b[38;5;124m\"\u001b[39m]\u001b[38;5;241m.\u001b[39mget(\u001b[38;5;124m\"\u001b[39m\u001b[38;5;124mtext\u001b[39m\u001b[38;5;124m\"\u001b[39m)\n\u001b[0;32m    228\u001b[0m     \u001b[38;5;28;01mraise\u001b[39;00m exception_class(message, screen, stacktrace, alert_text)  \u001b[38;5;66;03m# type: ignore[call-arg]  # mypy is not smart enough here\u001b[39;00m\n\u001b[1;32m--> 229\u001b[0m \u001b[38;5;28;01mraise\u001b[39;00m exception_class(message, screen, stacktrace)\n",
      "\u001b[1;31mNoSuchWindowException\u001b[0m: Message: no such window: target window already closed\nfrom unknown error: web view not found\n  (Session info: chrome=127.0.6533.72)\nStacktrace:\n\tGetHandleVerifier [0x00007FF66D849632+30946]\n\t(No symbol) [0x00007FF66D7FE3C9]\n\t(No symbol) [0x00007FF66D6F6FDA]\n\t(No symbol) [0x00007FF66D6CCB85]\n\t(No symbol) [0x00007FF66D7737A7]\n\t(No symbol) [0x00007FF66D78A771]\n\t(No symbol) [0x00007FF66D76C813]\n\t(No symbol) [0x00007FF66D73A6E5]\n\t(No symbol) [0x00007FF66D73B021]\n\tGetHandleVerifier [0x00007FF66D97F83D+1301229]\n\tGetHandleVerifier [0x00007FF66D98BDB7+1351783]\n\tGetHandleVerifier [0x00007FF66D982A03+1313971]\n\tGetHandleVerifier [0x00007FF66D87DD06+245686]\n\t(No symbol) [0x00007FF66D80758F]\n\t(No symbol) [0x00007FF66D803804]\n\t(No symbol) [0x00007FF66D803992]\n\t(No symbol) [0x00007FF66D7FA3EF]\n\tBaseThreadInitThunk [0x00007FFEF8EC53E0+16]\n\tRtlUserThreadStart [0x00007FFEFA16485B+43]\n"
     ]
    }
   ],
   "source": [
    "\n",
    "# print(len(items))\n",
    "count = 2\n",
    "while True:\n",
    "    items = driver.find_elements(By.CSS_SELECTOR,\"#emg-serp > div.emg-serp__serp-container > div > a.serp-list_link\")\n",
    "    print(count)\n",
    "    for item in items:\n",
    "        \n",
    "        try:\n",
    "            title = item.find_element(By.CSS_SELECTOR,\"div.serp-list_head-left > h4\").text\n",
    "        except:\n",
    "            title = \"N/A\"\n",
    "        dic = {\n",
    "            \"Title\":title\n",
    "        }\n",
    "        temp.append(dic)\n",
    "    count+=1\n",
    "    page = driver.get(f\"https://www.findcourses.co.uk/search/providers?page={count}&q=nvq\")\n",
    "#     driver.back()\n",
    "#     driver.execute_script(\"window.history.go(-1)\")\n",
    "    time.sleep(5)"
   ]
  },
  {
   "cell_type": "code",
   "execution_count": 18,
   "id": "ec10af45",
   "metadata": {},
   "outputs": [
    {
     "data": {
      "text/html": [
       "<div>\n",
       "<style scoped>\n",
       "    .dataframe tbody tr th:only-of-type {\n",
       "        vertical-align: middle;\n",
       "    }\n",
       "\n",
       "    .dataframe tbody tr th {\n",
       "        vertical-align: top;\n",
       "    }\n",
       "\n",
       "    .dataframe thead th {\n",
       "        text-align: right;\n",
       "    }\n",
       "</style>\n",
       "<table border=\"1\" class=\"dataframe\">\n",
       "  <thead>\n",
       "    <tr style=\"text-align: right;\">\n",
       "      <th></th>\n",
       "      <th>Title</th>\n",
       "    </tr>\n",
       "  </thead>\n",
       "  <tbody>\n",
       "    <tr>\n",
       "      <th>0</th>\n",
       "      <td>Multi Trades Training Ltd</td>\n",
       "    </tr>\n",
       "    <tr>\n",
       "      <th>1</th>\n",
       "      <td>CDC Group</td>\n",
       "    </tr>\n",
       "    <tr>\n",
       "      <th>2</th>\n",
       "      <td>HCUC (Harrow College &amp; Uxbridge College)</td>\n",
       "    </tr>\n",
       "    <tr>\n",
       "      <th>3</th>\n",
       "      <td>Salt Training Limited</td>\n",
       "    </tr>\n",
       "    <tr>\n",
       "      <th>4</th>\n",
       "      <td>Virtue Learning Hub Solutions</td>\n",
       "    </tr>\n",
       "    <tr>\n",
       "      <th>...</th>\n",
       "      <td>...</td>\n",
       "    </tr>\n",
       "    <tr>\n",
       "      <th>188</th>\n",
       "      <td>Aylesbury College</td>\n",
       "    </tr>\n",
       "    <tr>\n",
       "      <th>189</th>\n",
       "      <td>YMCA Traning</td>\n",
       "    </tr>\n",
       "    <tr>\n",
       "      <th>190</th>\n",
       "      <td>edX</td>\n",
       "    </tr>\n",
       "    <tr>\n",
       "      <th>191</th>\n",
       "      <td>Richmond and Hillcroft Adult and Community Col...</td>\n",
       "    </tr>\n",
       "    <tr>\n",
       "      <th>192</th>\n",
       "      <td>Rcademy</td>\n",
       "    </tr>\n",
       "  </tbody>\n",
       "</table>\n",
       "<p>193 rows × 1 columns</p>\n",
       "</div>"
      ],
      "text/plain": [
       "                                                 Title\n",
       "0                            Multi Trades Training Ltd\n",
       "1                                            CDC Group\n",
       "2             HCUC (Harrow College & Uxbridge College)\n",
       "3                                Salt Training Limited\n",
       "4                        Virtue Learning Hub Solutions\n",
       "..                                                 ...\n",
       "188                                  Aylesbury College\n",
       "189                                       YMCA Traning\n",
       "190                                                edX\n",
       "191  Richmond and Hillcroft Adult and Community Col...\n",
       "192                                            Rcademy\n",
       "\n",
       "[193 rows x 1 columns]"
      ]
     },
     "execution_count": 18,
     "metadata": {},
     "output_type": "execute_result"
    }
   ],
   "source": [
    "df = pd.DataFrame(temp)\n",
    "df"
   ]
  },
  {
   "cell_type": "code",
   "execution_count": 19,
   "id": "70955092",
   "metadata": {},
   "outputs": [],
   "source": [
    "df.to_csv(\"nvq course provider.csv\",index=False)"
   ]
  },
  {
   "cell_type": "code",
   "execution_count": null,
   "id": "e7a378e3",
   "metadata": {},
   "outputs": [],
   "source": []
  }
 ],
 "metadata": {
  "kernelspec": {
   "display_name": "Python 3 (ipykernel)",
   "language": "python",
   "name": "python3"
  },
  "language_info": {
   "codemirror_mode": {
    "name": "ipython",
    "version": 3
   },
   "file_extension": ".py",
   "mimetype": "text/x-python",
   "name": "python",
   "nbconvert_exporter": "python",
   "pygments_lexer": "ipython3",
   "version": "3.11.4"
  }
 },
 "nbformat": 4,
 "nbformat_minor": 5
}
